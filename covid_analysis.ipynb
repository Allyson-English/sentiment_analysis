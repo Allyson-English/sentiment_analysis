{
 "cells": [
  {
   "cell_type": "markdown",
   "metadata": {},
   "source": [
    "### Import functions to run subreddit sentiment\n",
    "#### Requires: json pathway and reddit praw information \n",
    "\n",
    "###### Reddit API wrapper \n",
    "\n",
    "###### reddit = praw.Reddit(client_id=creds.client_id, \\\n",
    "######                     client_secret=creds.client_secret, \\\n",
    "######                     user_agent=creds.user_agent, \\\n",
    "######                     username=creds.username, \\\n",
    "######                     password=creds.password)\n",
    "\n",
    "###### Getting daily ID for the Coronavirus daily discussion post\n",
    "\n",
    "###### subreddit = reddit.subreddit('Coronavirus')\n",
    "###### updated_dict = add_new_comments(json_file_path, reddit, subreddit)"
   ]
  },
  {
   "cell_type": "code",
   "execution_count": 4,
   "metadata": {},
   "outputs": [],
   "source": [
    "#Imports functions to run subreddit sentiment \n",
    "\n",
    "import subreddit_sentiment"
   ]
  },
  {
   "cell_type": "code",
   "execution_count": null,
   "metadata": {},
   "outputs": [],
   "source": []
  }
 ],
 "metadata": {
  "kernelspec": {
   "display_name": "Python 3",
   "language": "python",
   "name": "python3"
  },
  "language_info": {
   "codemirror_mode": {
    "name": "ipython",
    "version": 3
   },
   "file_extension": ".py",
   "mimetype": "text/x-python",
   "name": "python",
   "nbconvert_exporter": "python",
   "pygments_lexer": "ipython3",
   "version": "3.7.4"
  }
 },
 "nbformat": 4,
 "nbformat_minor": 4
}
